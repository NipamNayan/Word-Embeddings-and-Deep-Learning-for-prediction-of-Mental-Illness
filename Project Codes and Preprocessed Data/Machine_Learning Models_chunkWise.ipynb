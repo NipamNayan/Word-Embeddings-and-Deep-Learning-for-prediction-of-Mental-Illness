{
 "cells": [
  {
   "cell_type": "code",
   "execution_count": 1,
   "metadata": {},
   "outputs": [],
   "source": [
    "import pandas as pd\n",
    "import warnings"
   ]
  },
  {
   "cell_type": "code",
   "execution_count": 2,
   "metadata": {},
   "outputs": [],
   "source": [
    "from sklearn.feature_extraction.text import CountVectorizer,TfidfVectorizer,TfidfTransformer\n",
    "from sklearn.ensemble import RandomForestClassifier ,AdaBoostClassifier\n",
    "from sklearn.linear_model import LogisticRegression\n",
    "from sklearn.metrics import precision_score, recall_score,accuracy_score, classification_report, f1_score ,confusion_matrix\n"
   ]
  },
  {
   "cell_type": "code",
   "execution_count": 3,
   "metadata": {},
   "outputs": [],
   "source": [
    "train_data = pd.read_excel(\"C:\\\\Users\\\\SONY\\\\Desktop\\\\WORK\\\\PROJECT\\\\train_chunks.xlsx\")  ##train data\n",
    "test_data =  pd.read_excel(\"C:\\\\Users\\\\SONY\\\\Desktop\\\\WORK\\\\PROJECT\\\\test_chunks.xlsx\")   ## test data\n"
   ]
  },
  {
   "cell_type": "code",
   "execution_count": 4,
   "metadata": {},
   "outputs": [
    {
     "data": {
      "text/plain": [
       "Text       True\n",
       "Labels    False\n",
       "Id        False\n",
       "dtype: bool"
      ]
     },
     "execution_count": 4,
     "metadata": {},
     "output_type": "execute_result"
    }
   ],
   "source": [
    "train_data.isna().any()"
   ]
  },
  {
   "cell_type": "code",
   "execution_count": 5,
   "metadata": {},
   "outputs": [],
   "source": [
    "train_data=train_data.dropna(axis=0)"
   ]
  },
  {
   "cell_type": "code",
   "execution_count": 6,
   "metadata": {},
   "outputs": [
    {
     "data": {
      "text/plain": [
       "ID        False\n",
       "Text       True\n",
       "Labels    False\n",
       "dtype: bool"
      ]
     },
     "execution_count": 6,
     "metadata": {},
     "output_type": "execute_result"
    }
   ],
   "source": [
    "test_data.isna().any()"
   ]
  },
  {
   "cell_type": "code",
   "execution_count": 7,
   "metadata": {},
   "outputs": [],
   "source": [
    "test_data=test_data.dropna(axis=0)"
   ]
  },
  {
   "cell_type": "code",
   "execution_count": 8,
   "metadata": {},
   "outputs": [],
   "source": [
    "train = list(train_data['Text'])\n",
    "test = list(test_data['Text'])\n",
    "y_train = list(train_data['Labels'])\n",
    "tst_id = pd.DataFrame(test_data['ID'])\n",
    "y_test =list(test_data['Labels'])"
   ]
  },
  {
   "cell_type": "code",
   "execution_count": 9,
   "metadata": {},
   "outputs": [],
   "source": [
    "vectorizer = TfidfVectorizer(min_df =1,stop_words='english',use_idf=True,analyzer='word',\n",
    "                             ngram_range=(1,1),max_features=15000)\n",
    "x_train = vectorizer.fit_transform(train)\n",
    "x_test  = vectorizer.transform(test)"
   ]
  },
  {
   "cell_type": "code",
   "execution_count": 10,
   "metadata": {},
   "outputs": [
    {
     "data": {
      "text/plain": [
       "(3198, 15000)"
      ]
     },
     "execution_count": 10,
     "metadata": {},
     "output_type": "execute_result"
    }
   ],
   "source": [
    "x_test.shape"
   ]
  },
  {
   "cell_type": "markdown",
   "metadata": {},
   "source": [
    "### LOGISTIC REGRESSION"
   ]
  },
  {
   "cell_type": "code",
   "execution_count": 11,
   "metadata": {},
   "outputs": [
    {
     "data": {
      "text/plain": [
       "LogisticRegression(C=1.0, class_weight='balanced', dual=False,\n",
       "                   fit_intercept=True, intercept_scaling=1, l1_ratio=None,\n",
       "                   max_iter=1000, multi_class='warn', n_jobs=None, penalty='l2',\n",
       "                   random_state=5, solver='liblinear', tol=0.001, verbose=0,\n",
       "                   warm_start=False)"
      ]
     },
     "execution_count": 11,
     "metadata": {},
     "output_type": "execute_result"
    }
   ],
   "source": [
    "logisticRegr = LogisticRegression(solver='liblinear',class_weight='balanced',random_state=5,tol=0.001,max_iter=1000)\n",
    "logisticRegr.fit(x_train, y_train)"
   ]
  },
  {
   "cell_type": "code",
   "execution_count": 12,
   "metadata": {},
   "outputs": [],
   "source": [
    "predictions = logisticRegr.predict(x_test)"
   ]
  },
  {
   "cell_type": "code",
   "execution_count": 13,
   "metadata": {},
   "outputs": [
    {
     "name": "stdout",
     "output_type": "stream",
     "text": [
      "[[2731   57]\n",
      " [ 162  248]]\n"
     ]
    }
   ],
   "source": [
    "cm = confusion_matrix(y_test, predictions)\n",
    "print(cm)\n"
   ]
  },
  {
   "cell_type": "code",
   "execution_count": 14,
   "metadata": {},
   "outputs": [
    {
     "data": {
      "text/plain": [
       "0.9315196998123827"
      ]
     },
     "execution_count": 14,
     "metadata": {},
     "output_type": "execute_result"
    }
   ],
   "source": [
    "accuracy_score(y_test, predictions)"
   ]
  },
  {
   "cell_type": "code",
   "execution_count": 15,
   "metadata": {},
   "outputs": [
    {
     "name": "stdout",
     "output_type": "stream",
     "text": [
      "              precision    recall  f1-score   support\n",
      "\n",
      "           0       0.94      0.98      0.96      2788\n",
      "           1       0.81      0.60      0.69       410\n",
      "\n",
      "    accuracy                           0.93      3198\n",
      "   macro avg       0.88      0.79      0.83      3198\n",
      "weighted avg       0.93      0.93      0.93      3198\n",
      "\n"
     ]
    }
   ],
   "source": [
    "print(classification_report(y_test,predictions))"
   ]
  },
  {
   "cell_type": "markdown",
   "metadata": {},
   "source": [
    "### RANDOM FOREST"
   ]
  },
  {
   "cell_type": "code",
   "execution_count": 16,
   "metadata": {},
   "outputs": [
    {
     "data": {
      "text/plain": [
       "RandomForestClassifier(bootstrap=True, class_weight='balanced',\n",
       "                       criterion='entropy', max_depth=None, max_features=None,\n",
       "                       max_leaf_nodes=None, min_impurity_decrease=0.0,\n",
       "                       min_impurity_split=None, min_samples_leaf=1,\n",
       "                       min_samples_split=2, min_weight_fraction_leaf=0.0,\n",
       "                       n_estimators=100, n_jobs=None, oob_score=False,\n",
       "                       random_state=None, verbose=0, warm_start=False)"
      ]
     },
     "execution_count": 16,
     "metadata": {},
     "output_type": "execute_result"
    }
   ],
   "source": [
    "rand = RandomForestClassifier(n_estimators=100,criterion='entropy',max_features=None,class_weight='balanced')\n",
    "rand.fit(x_train, y_train)"
   ]
  },
  {
   "cell_type": "code",
   "execution_count": 17,
   "metadata": {},
   "outputs": [],
   "source": [
    "prediction2 = rand.predict(x_test)"
   ]
  },
  {
   "cell_type": "code",
   "execution_count": 18,
   "metadata": {},
   "outputs": [
    {
     "name": "stdout",
     "output_type": "stream",
     "text": [
      "\n",
      " CONFUSION MATRIX \n",
      " [[2562  226]\n",
      " [ 248  162]]\n",
      "\n",
      " ACCURACY \n",
      " 0.851782363977486\n",
      "\n",
      " REPORT \n",
      "               precision    recall  f1-score   support\n",
      "\n",
      "           0       0.92      0.91      0.92      2810\n",
      "           1       0.40      0.42      0.41       388\n",
      "\n",
      "    accuracy                           0.85      3198\n",
      "   macro avg       0.66      0.66      0.66      3198\n",
      "weighted avg       0.86      0.85      0.85      3198\n",
      "\n"
     ]
    }
   ],
   "source": [
    "print('\\n','CONFUSION MATRIX','\\n',confusion_matrix(y_test, prediction2))\n",
    "print('\\n','ACCURACY','\\n',accuracy_score(y_test, prediction2))\n",
    "print('\\n','REPORT','\\n',classification_report(prediction2,y_test))"
   ]
  },
  {
   "cell_type": "markdown",
   "metadata": {},
   "source": [
    "### ADA-BOOST"
   ]
  },
  {
   "cell_type": "code",
   "execution_count": 19,
   "metadata": {},
   "outputs": [
    {
     "data": {
      "text/plain": [
       "AdaBoostClassifier(algorithm='SAMME.R', base_estimator=None, learning_rate=0.01,\n",
       "                   n_estimators=50, random_state=None)"
      ]
     },
     "execution_count": 19,
     "metadata": {},
     "output_type": "execute_result"
    }
   ],
   "source": [
    "ada = AdaBoostClassifier(algorithm='SAMME.R',learning_rate=0.01)\n",
    "ada.fit(x_train,y_train)  "
   ]
  },
  {
   "cell_type": "code",
   "execution_count": 20,
   "metadata": {},
   "outputs": [],
   "source": [
    "predictions3 = ada.predict(x_test)"
   ]
  },
  {
   "cell_type": "code",
   "execution_count": 21,
   "metadata": {},
   "outputs": [
    {
     "name": "stdout",
     "output_type": "stream",
     "text": [
      "\n",
      " CONFUSION MATRIX \n",
      " [[2773   15]\n",
      " [ 320   90]]\n",
      "\n",
      " ACCURACY \n",
      " 0.8952470293933709\n",
      "\n",
      " REPORT \n",
      "               precision    recall  f1-score   support\n",
      "\n",
      "           0       0.90      0.99      0.94      2788\n",
      "           1       0.86      0.22      0.35       410\n",
      "\n",
      "    accuracy                           0.90      3198\n",
      "   macro avg       0.88      0.61      0.65      3198\n",
      "weighted avg       0.89      0.90      0.87      3198\n",
      "\n"
     ]
    }
   ],
   "source": [
    "print('\\n','CONFUSION MATRIX','\\n',confusion_matrix(y_test, predictions3))\n",
    "print('\\n','ACCURACY','\\n',accuracy_score(y_test, predictions3))\n",
    "print('\\n','REPORT','\\n',classification_report(y_test,predictions3))"
   ]
  },
  {
   "cell_type": "markdown",
   "metadata": {},
   "source": [
    "### NEURAL NETWORK SKLEARN"
   ]
  },
  {
   "cell_type": "code",
   "execution_count": 22,
   "metadata": {},
   "outputs": [],
   "source": [
    "from sklearn.neural_network import MLPClassifier"
   ]
  },
  {
   "cell_type": "code",
   "execution_count": 23,
   "metadata": {},
   "outputs": [],
   "source": [
    "MLP = MLPClassifier(alpha=0.0001,hidden_layer_sizes=(5,2), random_state=1,solver='adam',\n",
    "                    activation='relu')\n"
   ]
  },
  {
   "cell_type": "code",
   "execution_count": 24,
   "metadata": {},
   "outputs": [
    {
     "name": "stderr",
     "output_type": "stream",
     "text": [
      "C:\\Users\\SONY\\Anaconda3\\envs\\tensorflow_env\\lib\\site-packages\\sklearn\\neural_network\\multilayer_perceptron.py:566: ConvergenceWarning: Stochastic Optimizer: Maximum iterations (200) reached and the optimization hasn't converged yet.\n",
      "  % self.max_iter, ConvergenceWarning)\n"
     ]
    },
    {
     "data": {
      "text/plain": [
       "MLPClassifier(activation='relu', alpha=0.0001, batch_size='auto', beta_1=0.9,\n",
       "              beta_2=0.999, early_stopping=False, epsilon=1e-08,\n",
       "              hidden_layer_sizes=(5, 2), learning_rate='constant',\n",
       "              learning_rate_init=0.001, max_iter=200, momentum=0.9,\n",
       "              n_iter_no_change=10, nesterovs_momentum=True, power_t=0.5,\n",
       "              random_state=1, shuffle=True, solver='adam', tol=0.0001,\n",
       "              validation_fraction=0.1, verbose=False, warm_start=False)"
      ]
     },
     "execution_count": 24,
     "metadata": {},
     "output_type": "execute_result"
    }
   ],
   "source": [
    "MLP.fit(x_train,y_train)"
   ]
  },
  {
   "cell_type": "code",
   "execution_count": 25,
   "metadata": {},
   "outputs": [],
   "source": [
    "predictions4 = MLP.predict(x_test)"
   ]
  },
  {
   "cell_type": "code",
   "execution_count": 26,
   "metadata": {},
   "outputs": [
    {
     "name": "stdout",
     "output_type": "stream",
     "text": [
      "\n",
      " CONFUSION MATRIX \n",
      " [[2785    3]\n",
      " [ 381   29]]\n",
      "\n",
      " ACCURACY \n",
      " 0.8799249530956847\n",
      "\n",
      " REPORT \n",
      "               precision    recall  f1-score   support\n",
      "\n",
      "           0       0.88      1.00      0.94      2788\n",
      "           1       0.91      0.07      0.13       410\n",
      "\n",
      "    accuracy                           0.88      3198\n",
      "   macro avg       0.89      0.53      0.53      3198\n",
      "weighted avg       0.88      0.88      0.83      3198\n",
      "\n"
     ]
    }
   ],
   "source": [
    "print('\\n','CONFUSION MATRIX','\\n',confusion_matrix(y_test, predictions4))\n",
    "print('\\n','ACCURACY','\\n',accuracy_score(y_test, predictions4))\n",
    "print('\\n','REPORT','\\n',classification_report(y_test,predictions4))"
   ]
  },
  {
   "cell_type": "markdown",
   "metadata": {},
   "source": [
    "### KNN"
   ]
  },
  {
   "cell_type": "code",
   "execution_count": 27,
   "metadata": {},
   "outputs": [],
   "source": [
    "from sklearn.neighbors import KNeighborsClassifier"
   ]
  },
  {
   "cell_type": "code",
   "execution_count": 28,
   "metadata": {},
   "outputs": [],
   "source": [
    "KN = KNeighborsClassifier( algorithm='brute')\n",
    "KN.fit(x_train,y_train)\n",
    "predictions5 = KN.predict(x_test)\n"
   ]
  },
  {
   "cell_type": "code",
   "execution_count": 29,
   "metadata": {},
   "outputs": [
    {
     "name": "stdout",
     "output_type": "stream",
     "text": [
      "\n",
      " CONFUSION MATRIX \n",
      " [[2491  297]\n",
      " [ 148  262]]\n",
      "\n",
      " ACCURACY \n",
      " 0.8608505315822389\n",
      "\n",
      " REPORT \n",
      "               precision    recall  f1-score   support\n",
      "\n",
      "           0       0.94      0.89      0.92      2788\n",
      "           1       0.47      0.64      0.54       410\n",
      "\n",
      "    accuracy                           0.86      3198\n",
      "   macro avg       0.71      0.77      0.73      3198\n",
      "weighted avg       0.88      0.86      0.87      3198\n",
      "\n"
     ]
    }
   ],
   "source": [
    "print('\\n','CONFUSION MATRIX','\\n',confusion_matrix(y_test, predictions5))\n",
    "print('\\n','ACCURACY','\\n',accuracy_score(y_test, predictions5))\n",
    "print('\\n','REPORT','\\n',classification_report(y_test,predictions5))"
   ]
  },
  {
   "cell_type": "markdown",
   "metadata": {},
   "source": [
    "### SVM"
   ]
  },
  {
   "cell_type": "code",
   "execution_count": 30,
   "metadata": {},
   "outputs": [],
   "source": [
    "from sklearn import svm\n",
    "SVMM = svm.LinearSVC(class_weight='balanced',verbose=0, random_state=None,max_iter=1000)  "
   ]
  },
  {
   "cell_type": "code",
   "execution_count": 31,
   "metadata": {},
   "outputs": [],
   "source": [
    "SVMM.fit(x_train,y_train)\n",
    "predictions6 = SVMM.predict(x_test)\n"
   ]
  },
  {
   "cell_type": "code",
   "execution_count": 32,
   "metadata": {},
   "outputs": [
    {
     "name": "stdout",
     "output_type": "stream",
     "text": [
      "\n",
      " CONFUSION MATRIX \n",
      " [[2758   30]\n",
      " [ 212  198]]\n",
      "\n",
      " ACCURACY \n",
      " 0.9243277048155097\n",
      "\n",
      " REPORT \n",
      "               precision    recall  f1-score   support\n",
      "\n",
      "           0       0.93      0.99      0.96      2788\n",
      "           1       0.87      0.48      0.62       410\n",
      "\n",
      "    accuracy                           0.92      3198\n",
      "   macro avg       0.90      0.74      0.79      3198\n",
      "weighted avg       0.92      0.92      0.91      3198\n",
      "\n"
     ]
    }
   ],
   "source": [
    "print('\\n','CONFUSION MATRIX','\\n',confusion_matrix(y_test, predictions6))\n",
    "print('\\n','ACCURACY','\\n',accuracy_score(y_test, predictions6))\n",
    "print('\\n','REPORT','\\n',classification_report(y_test,predictions6))"
   ]
  },
  {
   "cell_type": "code",
   "execution_count": null,
   "metadata": {},
   "outputs": [],
   "source": []
  },
  {
   "cell_type": "code",
   "execution_count": null,
   "metadata": {},
   "outputs": [],
   "source": []
  },
  {
   "cell_type": "code",
   "execution_count": null,
   "metadata": {},
   "outputs": [],
   "source": []
  }
 ],
 "metadata": {
  "kernelspec": {
   "display_name": "Python 3",
   "language": "python",
   "name": "python3"
  },
  "language_info": {
   "codemirror_mode": {
    "name": "ipython",
    "version": 3
   },
   "file_extension": ".py",
   "mimetype": "text/x-python",
   "name": "python",
   "nbconvert_exporter": "python",
   "pygments_lexer": "ipython3",
   "version": "3.7.4"
  }
 },
 "nbformat": 4,
 "nbformat_minor": 2
}
