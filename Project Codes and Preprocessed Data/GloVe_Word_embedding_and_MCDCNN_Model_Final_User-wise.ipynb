{
 "cells": [
  {
   "cell_type": "code",
   "execution_count": 1,
   "metadata": {},
   "outputs": [],
   "source": [
    "from __future__ import print_function, division\n",
    "from builtins import range"
   ]
  },
  {
   "cell_type": "code",
   "execution_count": 2,
   "metadata": {},
   "outputs": [],
   "source": [
    "import sys\n",
    "import numpy as np\n",
    "import pandas as pd\n",
    "import matplotlib.pyplot as plt\n",
    "%matplotlib inline\n",
    "\n",
    "from sklearn.ensemble import ExtraTreesClassifier, RandomForestClassifier\n",
    "#from gensim.models import KeyedVectors\n"
   ]
  },
  {
   "cell_type": "code",
   "execution_count": 3,
   "metadata": {},
   "outputs": [],
   "source": [
    "train = \"C:\\\\Users\\\\SONY\\\\Desktop\\\\WORK\\\\PROJECT\\\\train.xlsx\"\n",
    "test = \"C:\\\\Users\\\\SONY\\\\Desktop\\\\WORK\\\\PROJECT\\\\Test.xlsx\""
   ]
  },
  {
   "cell_type": "code",
   "execution_count": 4,
   "metadata": {},
   "outputs": [],
   "source": [
    "\n",
    "df = pd.read_excel(train)\n",
    "df.Text = df.Text.str.replace('[^\\w\\s]','')\n",
    "df.Text = df.Text.str.lower()\n",
    "#df.Text = df.Text.str.split()\n",
    "\n",
    "df1 = pd.read_excel(test)\n",
    "df1.Text = df1.Text.str.replace('[^\\w\\s]','')\n",
    "df1.Text = df1.Text.str.lower()\n",
    "#df1.Text = df1.Text.str.split()"
   ]
  },
  {
   "cell_type": "markdown",
   "metadata": {},
   "source": [
    "## TACKLING WITH UNBALANCED DATASET"
   ]
  },
  {
   "cell_type": "code",
   "execution_count": 5,
   "metadata": {},
   "outputs": [
    {
     "data": {
      "text/plain": [
       "41"
      ]
     },
     "execution_count": 5,
     "metadata": {},
     "output_type": "execute_result"
    }
   ],
   "source": [
    "len(df1[df1['Labels']==1])"
   ]
  },
  {
   "cell_type": "code",
   "execution_count": 6,
   "metadata": {},
   "outputs": [
    {
     "data": {
      "text/plain": [
       "(20, 132)"
      ]
     },
     "execution_count": 6,
     "metadata": {},
     "output_type": "execute_result"
    }
   ],
   "source": [
    "len(df[df['Labels']==1]),len(df[df['Labels']==0])"
   ]
  },
  {
   "cell_type": "code",
   "execution_count": 7,
   "metadata": {},
   "outputs": [],
   "source": [
    "A= df[df['Labels']==1]\n",
    "B= df[df['Labels']==0]"
   ]
  },
  {
   "cell_type": "code",
   "execution_count": 8,
   "metadata": {},
   "outputs": [],
   "source": [
    "A_repeated = pd.concat([A]*7, ignore_index=True)\n",
    "df = pd.concat([A_repeated,B])\n",
    "from sklearn.utils import shuffle\n",
    "df = shuffle(df)\n",
    "df = df.reset_index(drop=True)"
   ]
  },
  {
   "cell_type": "markdown",
   "metadata": {},
   "source": [
    "## FURTHER PRE-PROCESSING"
   ]
  },
  {
   "cell_type": "code",
   "execution_count": 117,
   "metadata": {},
   "outputs": [],
   "source": [
    "#from nltk.corpus import stopwords \n",
    "#from nltk.tokenize import word_tokenize "
   ]
  },
  {
   "cell_type": "code",
   "execution_count": 118,
   "metadata": {},
   "outputs": [],
   "source": [
    "#stop = stopwords.words('english')\n",
    "#df['Text'] = df['Text'].apply(lambda x: ' '.join([word for word in x.split() if word not in (stop)]))"
   ]
  },
  {
   "cell_type": "code",
   "execution_count": 10,
   "metadata": {},
   "outputs": [],
   "source": [
    "import nltk\n",
    "\n",
    "w_tokenizer = nltk.tokenize.WhitespaceTokenizer()\n",
    "lemmatizer = nltk.stem.WordNetLemmatizer()\n",
    "\n",
    "def lemmatize_text(text):\n",
    "    return [lemmatizer.lemmatize(w) for w in w_tokenizer.tokenize(text)]"
   ]
  },
  {
   "cell_type": "code",
   "execution_count": 11,
   "metadata": {},
   "outputs": [],
   "source": [
    "df['Text'] = df.Text.apply(lemmatize_text)"
   ]
  },
  {
   "cell_type": "code",
   "execution_count": 12,
   "metadata": {},
   "outputs": [],
   "source": [
    "#df1['Text'] = df1['Text'].apply(lambda x: ' '.join([word for word in x.split() if word not in (stop)]))\n",
    "df1['Text'] = df1.Text.apply(lemmatize_text)"
   ]
  },
  {
   "cell_type": "code",
   "execution_count": 13,
   "metadata": {},
   "outputs": [
    {
     "data": {
      "image/png": "[encoded data removed]",
      "text/plain": [
       "<Figure size 432x288 with 1 Axes>"
      ]
     },
     "metadata": {
      "needs_background": "light"
     },
     "output_type": "display_data"
    },
    {
     "data": {
      "text/plain": [
       "count     272.000000\n",
       "mean     4828.805147\n",
       "std      1677.848533\n",
       "min       163.000000\n",
       "25%      4240.750000\n",
       "50%      5692.000000\n",
       "75%      5915.000000\n",
       "max      6320.000000\n",
       "dtype: float64"
      ]
     },
     "execution_count": 13,
     "metadata": {},
     "output_type": "execute_result"
    }
   ],
   "source": [
    "import matplotlib.pyplot as plt\n",
    "%matplotlib inline\n",
    "Text_len = [len(x) for x in df.Text]\n",
    "pd.Series(Text_len).hist()\n",
    "plt.xlabel('Total Words', fontdict= {'family': 'serif','color':  'darkred','weight': 'normal','size': 16,})\n",
    "plt.ylabel('Total Instances',fontdict= {'family': 'serif','color':  'darkred','weight': 'normal','size': 16,})\n",
    "plt.title('TrainData', fontdict ={'family': 'serif','color':  'black','weight': 'normal','size': 20,})\n",
    "plt.show()\n",
    "pd.Series(Text_len).describe()"
   ]
  },
  {
   "cell_type": "code",
   "execution_count": 14,
   "metadata": {},
   "outputs": [
    {
     "data": {
      "image/png": "[encoded data removed]",
      "text/plain": [
       "<Figure size 432x288 with 1 Axes>"
      ]
     },
     "metadata": {
      "needs_background": "light"
     },
     "output_type": "display_data"
    },
    {
     "data": {
      "text/plain": [
       "count     320.000000\n",
       "mean     3987.731250\n",
       "std      2156.238002\n",
       "min        10.000000\n",
       "25%      1627.500000\n",
       "50%      5290.500000\n",
       "75%      5719.500000\n",
       "max      6642.000000\n",
       "dtype: float64"
      ]
     },
     "execution_count": 14,
     "metadata": {},
     "output_type": "execute_result"
    }
   ],
   "source": [
    "Text_len1 = [len(x) for x in df1.Text]\n",
    "pd.Series(Text_len1).hist()\n",
    "plt.xlabel('Total Words', fontdict= {'family': 'serif','color':  'darkred','weight': 'normal','size': 16,})\n",
    "plt.ylabel('Total Instances',fontdict= {'family': 'serif','color':  'darkred','weight': 'normal','size': 16,})\n",
    "plt.title('TestData', fontdict ={'family': 'serif','color':  'black','weight': 'normal','size': 20,})\n",
    "plt.show()\n",
    "pd.Series(Text_len1).describe()"
   ]
  },
  {
   "cell_type": "markdown",
   "metadata": {},
   "source": [
    "## LOADING GLOVE VECTORS"
   ]
  },
  {
   "cell_type": "code",
   "execution_count": 122,
   "metadata": {},
   "outputs": [],
   "source": [
    "class GloveVectorizer:\n",
    "    def __init__(self):\n",
    "        # load in pre-trained word vectors\n",
    "        print('Loading word vectors...')\n",
    "        word2vec = {}\n",
    "        embedding = []\n",
    "        idx2word = []\n",
    "        with open('C:\\\\Users\\\\SONY\\\\Desktop\\\\WORK\\\\New\\\\glove\\\\glove.6B.100d.txt',encoding='utf') as f:\n",
    "            # is just a space-separated text file in the format:\n",
    "            # word vec[0] vec[1] vec[2] ...\n",
    "            for line in f:\n",
    "                values = line.split()\n",
    "                word = values[0]\n",
    "                vec = np.asarray(values[1:], dtype='float32')\n",
    "                word2vec[word] = vec\n",
    "                embedding.append(vec)\n",
    "                idx2word.append(word)\n",
    "        print('Found %s word vectors.' % len(word2vec))\n",
    "\n",
    "        # save for later\n",
    "        self.word2vec = word2vec\n",
    "        self.embedding = np.array(embedding)\n",
    "        self.word2idx = {v:k for k,v in enumerate(idx2word)}\n",
    "        self.V, self.D = self.embedding.shape\n",
    "\n",
    "    def fit(self, data):\n",
    "        pass\n",
    "\n",
    "    def transform(self, data):\n",
    "        X = np.zeros((len(data), self.D))\n",
    "        Y = np.zeros((len(data), self.D))\n",
    "        Z = np.zeros((len(data), self.D))\n",
    "        n = 0\n",
    "        emptycount = 0\n",
    "        for sentence in data:\n",
    "            #tokens = sentence.lower().split()\n",
    "            vecs = []\n",
    "            for word in sentence:\n",
    "                if word in self.word2vec:\n",
    "                    vec = self.word2vec[word]\n",
    "                    vecs.append(vec)\n",
    "            if len(vecs) > 0:\n",
    "                vecs = np.array(vecs)\n",
    "                X[n] = vecs.mean(axis=0)\n",
    "                Y[n] = vecs.min(axis=0)\n",
    "                Z[n] = vecs.max(axis=0)\n",
    "                \n",
    "            else:\n",
    "                emptycount += 1\n",
    "            n += 1\n",
    "        print(\"Number of samples with no words found: %s / %s\" % (emptycount, len(data)))\n",
    "        return X,Y,Z\n",
    "\n",
    "    def fit_transform(self, data):\n",
    "        self.fit(data)\n",
    "        return self.transform(data)"
   ]
  },
  {
   "cell_type": "code",
   "execution_count": 123,
   "metadata": {},
   "outputs": [
    {
     "name": "stdout",
     "output_type": "stream",
     "text": [
      "Loading word vectors...\n",
      "Found 400000 word vectors.\n",
      "Number of samples with no words found: 0 / 272\n",
      "Number of samples with no words found: 0 / 320\n"
     ]
    }
   ],
   "source": [
    "vectorizer = GloveVectorizer()\n",
    "# vectorizer = Word2VecVectorizer()\n",
    "Xavg,Xmin,Xmax = vectorizer.fit_transform(df.Text)\n",
    "Ytrain = df.Labels\n",
    "Test_avg,Test_min,Test_max = vectorizer.transform(df1.Text)\n",
    "Ytest = df1.Labels"
   ]
  },
  {
   "cell_type": "code",
   "execution_count": 124,
   "metadata": {},
   "outputs": [
    {
     "data": {
      "text/plain": [
       "((272, 100), array([[-0.08210665,  0.24296233,  0.32847109, ..., -0.27452844,\n",
       "          0.43058041,  0.23358656],\n",
       "        [-0.10068361,  0.22685106,  0.30363446, ..., -0.25213444,\n",
       "          0.47252768,  0.14023894],\n",
       "        [-0.09521415,  0.19471765,  0.34869123, ..., -0.28735396,\n",
       "          0.4396182 ,  0.1954027 ],\n",
       "        ...,\n",
       "        [-0.10615186,  0.22632921,  0.39993405, ..., -0.30264559,\n",
       "          0.35592282,  0.24975191],\n",
       "        [-0.08805366,  0.24106307,  0.3561067 , ..., -0.27348304,\n",
       "          0.39895487,  0.24565068],\n",
       "        [-0.04922622,  0.29443663,  0.38274023, ..., -0.3154425 ,\n",
       "          0.36513478,  0.2611053 ]]))"
      ]
     },
     "execution_count": 124,
     "metadata": {},
     "output_type": "execute_result"
    }
   ],
   "source": [
    "Xavg.shape, Xavg"
   ]
  },
  {
   "cell_type": "markdown",
   "metadata": {},
   "source": [
    "## TRYING SIMPLER ML MODELS"
   ]
  },
  {
   "cell_type": "code",
   "execution_count": 125,
   "metadata": {},
   "outputs": [],
   "source": [
    "from sklearn.linear_model import LogisticRegression\n",
    "model = LogisticRegression(solver='liblinear',class_weight='balanced',random_state=5,tol=0.001,max_iter=1000000)"
   ]
  },
  {
   "cell_type": "code",
   "execution_count": 126,
   "metadata": {},
   "outputs": [
    {
     "name": "stdout",
     "output_type": "stream",
     "text": [
      "train score: 0.8676470588235294\n",
      "test score: 0.88125\n"
     ]
    }
   ],
   "source": [
    "#model = RandomForestClassifier(n_estimators=200)\n",
    "model.fit(Xavg, Ytrain)\n",
    "print(\"train score:\", model.score(Xavg, Ytrain))\n",
    "print(\"test score:\", model.score(Test_avg, Ytest))\n"
   ]
  },
  {
   "cell_type": "code",
   "execution_count": 127,
   "metadata": {},
   "outputs": [],
   "source": [
    "predictions = model.predict(Test_avg)"
   ]
  },
  {
   "cell_type": "code",
   "execution_count": 128,
   "metadata": {},
   "outputs": [],
   "source": [
    "from sklearn.metrics import precision_score, recall_score,accuracy_score, classification_report, f1_score ,confusion_matrix\n"
   ]
  },
  {
   "cell_type": "code",
   "execution_count": 151,
   "metadata": {},
   "outputs": [
    {
     "name": "stdout",
     "output_type": "stream",
     "text": [
      "[[250  29]\n",
      " [  9  32]]\n",
      "\n",
      "               precision    recall  f1-score   support\n",
      "\n",
      "           0       0.97      0.90      0.93       279\n",
      "           1       0.52      0.78      0.63        41\n",
      "\n",
      "    accuracy                           0.88       320\n",
      "   macro avg       0.74      0.84      0.78       320\n",
      "weighted avg       0.91      0.88      0.89       320\n",
      "\n"
     ]
    }
   ],
   "source": [
    "cm = confusion_matrix(Ytest,predictions)\n",
    "print(cm)\n",
    "print('\\n',classification_report(Ytest,predictions))\n"
   ]
  },
  {
   "cell_type": "code",
   "execution_count": 152,
   "metadata": {},
   "outputs": [
    {
     "name": "stdout",
     "output_type": "stream",
     "text": [
      "[[260  19]\n",
      " [ 17  24]]\n",
      "\n",
      "               precision    recall  f1-score   support\n",
      "\n",
      "           0       0.94      0.93      0.94       279\n",
      "           1       0.56      0.59      0.57        41\n",
      "\n",
      "    accuracy                           0.89       320\n",
      "   macro avg       0.75      0.76      0.75       320\n",
      "weighted avg       0.89      0.89      0.89       320\n",
      "\n"
     ]
    }
   ],
   "source": [
    "model.fit(Xmax, Ytrain)\n",
    "predictions2 = model.predict(Test_max)\n",
    "cm2 = confusion_matrix(Ytest,predictions2)\n",
    "print(cm2)\n",
    "print('\\n',classification_report(Ytest,predictions2))"
   ]
  },
  {
   "cell_type": "code",
   "execution_count": 153,
   "metadata": {},
   "outputs": [
    {
     "name": "stdout",
     "output_type": "stream",
     "text": [
      "[[252  27]\n",
      " [ 16  25]]\n",
      "\n",
      "               precision    recall  f1-score   support\n",
      "\n",
      "           0       0.94      0.90      0.92       279\n",
      "           1       0.48      0.61      0.54        41\n",
      "\n",
      "    accuracy                           0.87       320\n",
      "   macro avg       0.71      0.76      0.73       320\n",
      "weighted avg       0.88      0.87      0.87       320\n",
      "\n"
     ]
    }
   ],
   "source": [
    "model.fit(Xmin, Ytrain)\n",
    "predictions3 = model.predict(Test_min)\n",
    "cm3 = confusion_matrix(Ytest,predictions3)\n",
    "print(cm3)\n",
    "print('\\n',classification_report(Ytest,predictions3))"
   ]
  },
  {
   "cell_type": "code",
   "execution_count": 164,
   "metadata": {},
   "outputs": [],
   "source": [
    "from sklearn import svm\n",
    "SVMM = svm.LinearSVC(class_weight='balanced',verbose=0, random_state=None,max_iter=1000)  "
   ]
  },
  {
   "cell_type": "code",
   "execution_count": 165,
   "metadata": {},
   "outputs": [
    {
     "name": "stdout",
     "output_type": "stream",
     "text": [
      "train score: 0.9191176470588235\n",
      "test score: 0.9\n",
      "\n",
      " [[255  24]\n",
      " [  8  33]]\n",
      "\n",
      "               precision    recall  f1-score   support\n",
      "\n",
      "           0       0.97      0.91      0.94       279\n",
      "           1       0.58      0.80      0.67        41\n",
      "\n",
      "    accuracy                           0.90       320\n",
      "   macro avg       0.77      0.86      0.81       320\n",
      "weighted avg       0.92      0.90      0.91       320\n",
      "\n"
     ]
    }
   ],
   "source": [
    "SVMM.fit(Xavg, Ytrain)\n",
    "predictions4 = SVMM.predict(Test_avg)\n",
    "cm4 = confusion_matrix(Ytest,predictions4)\n",
    "print(\"train score:\", SVMM.score(Xavg, Ytrain))\n",
    "print(\"test score:\", SVMM.score(Test_avg, Ytest))\n",
    "print('\\n',cm4)\n",
    "print('\\n',classification_report(Ytest,predictions4))"
   ]
  },
  {
   "cell_type": "markdown",
   "metadata": {},
   "source": [
    "# FINAL MODEL FOR CLASSIFICATION"
   ]
  },
  {
   "cell_type": "code",
   "execution_count": 167,
   "metadata": {},
   "outputs": [],
   "source": [
    "import pickle\n",
    "#import sklearn\n",
    "import tensorflow as tf\n",
    "import warnings\n",
    "warnings.filterwarnings(\"ignore\")"
   ]
  },
  {
   "cell_type": "code",
   "execution_count": 138,
   "metadata": {},
   "outputs": [],
   "source": [
    "train_x = np.dstack([Xavg,Xmin,Xmax])"
   ]
  },
  {
   "cell_type": "code",
   "execution_count": 139,
   "metadata": {},
   "outputs": [
    {
     "data": {
      "text/plain": [
       "(272, 100, 3)"
      ]
     },
     "execution_count": 139,
     "metadata": {},
     "output_type": "execute_result"
    }
   ],
   "source": [
    "train_x.shape"
   ]
  },
  {
   "cell_type": "code",
   "execution_count": 140,
   "metadata": {},
   "outputs": [],
   "source": [
    "train_x = train_x.reshape(272, 1,100, 3)"
   ]
  },
  {
   "cell_type": "code",
   "execution_count": 141,
   "metadata": {},
   "outputs": [],
   "source": [
    "test_x = np.dstack([Test_avg,Test_min,Test_max])"
   ]
  },
  {
   "cell_type": "code",
   "execution_count": 142,
   "metadata": {},
   "outputs": [
    {
     "data": {
      "text/plain": [
       "(320, 100, 3)"
      ]
     },
     "execution_count": 142,
     "metadata": {},
     "output_type": "execute_result"
    }
   ],
   "source": [
    "test_x.shape"
   ]
  },
  {
   "cell_type": "code",
   "execution_count": 143,
   "metadata": {},
   "outputs": [],
   "source": [
    "test_x = test_x.reshape(320, 1,100, 3)"
   ]
  },
  {
   "cell_type": "code",
   "execution_count": 149,
   "metadata": {},
   "outputs": [],
   "source": [
    "train_y = np.asarray(pd.get_dummies(Ytrain), dtype = np.int8)\n",
    "test_y = np.asarray(pd.get_dummies(Ytest), dtype = np.int8)"
   ]
  },
  {
   "cell_type": "code",
   "execution_count": 150,
   "metadata": {},
   "outputs": [
    {
     "data": {
      "text/plain": [
       "((272, 1, 100, 3), (272, 2), (320, 1, 100, 3), (320, 2))"
      ]
     },
     "execution_count": 150,
     "metadata": {},
     "output_type": "execute_result"
    }
   ],
   "source": [
    "train_x.shape, train_y.shape, test_x.shape, test_y.shape"
   ]
  },
  {
   "cell_type": "markdown",
   "metadata": {},
   "source": [
    "## DEFINING HELPER FUNCTIONS"
   ]
  },
  {
   "cell_type": "code",
   "execution_count": 296,
   "metadata": {},
   "outputs": [],
   "source": [
    "def weight_variable(shape):\n",
    "    initial = tf.truncated_normal(shape, stddev = 0.1)\n",
    "    return tf.Variable(initial)\n",
    "\n",
    "def bias_variable(shape):\n",
    "    initial = tf.constant(0.0, shape = shape)\n",
    "    return tf.Variable(initial)\n",
    "\n",
    "def conv2d(x, W):\n",
    "    return tf.nn.depthwise_conv2d(x,W, [1, 1, 1, 1], padding='VALID')\n",
    "\n",
    "def apply_conv(x,kernel_size,num_channels,depth):\n",
    "    weights = weight_variable([1, kernel_size, num_channels, depth])\n",
    "    biases = bias_variable([depth * num_channels])\n",
    "    return tf.nn.relu(tf.add(conv2d(x, weights),biases))\n",
    "    \n",
    "def apply_pooling(x,kernel_size,stride_size):\n",
    "    return tf.nn.max_pool(x, ksize=[1, 1, kernel_size, 1], \n",
    "                          strides=[1, 1, stride_size, 1], padding='VALID')\n"
   ]
  },
  {
   "cell_type": "markdown",
   "metadata": {},
   "source": [
    "## MODEL PARAMETERS"
   ]
  },
  {
   "cell_type": "code",
   "execution_count": 472,
   "metadata": {},
   "outputs": [],
   "source": [
    "input_height = 1\n",
    "input_width = 100\n",
    "num_labels = 2\n",
    "num_channels = 3\n",
    "\n",
    "batch_size = 8\n",
    "kernel_size = 10\n",
    "nbr_kernels = 30\n",
    "num_hidden = 128\n",
    "\n",
    "learning_rate = 0.001\n",
    "momentum=0.9\n",
    "decay_rate = 0.0005\n",
    "epsilon = 0.01\n",
    "training_epochs = 30\n",
    "\n",
    "total_batches = train_x.shape[0] // batch_size\n"
   ]
  },
  {
   "cell_type": "markdown",
   "metadata": {},
   "source": [
    "## BUILDING THE LAYERS"
   ]
  },
  {
   "cell_type": "code",
   "execution_count": 473,
   "metadata": {},
   "outputs": [],
   "source": [
    "X = tf.placeholder(tf.float32, shape=[None,input_height,input_width,num_channels])\n",
    "Y = tf.placeholder(tf.float32, shape=[None,num_labels])\n",
    "\n",
    "c = apply_conv(X,kernel_size,num_channels,nbr_kernels)        #FILTER LAYER 1\n",
    "p = apply_pooling(c,8,2)                                     #POOLING LAYER 1\n",
    "\n",
    "shape = p.get_shape().as_list()\n",
    "p_flat = tf.reshape(p, [-1, shape[1] * shape[2] * shape[3]])\n",
    "\n",
    "W = weight_variable([shape[1] * shape[2] * nbr_kernels * num_channels, num_hidden])\n",
    "b = bias_variable([num_hidden])\n",
    "f = tf.nn.relu(tf.add(tf.matmul(p_flat, W),b))\n",
    "\n",
    "W2 = weight_variable([num_hidden, num_hidden])\n",
    "b2 = bias_variable([num_hidden])\n",
    "f2 = tf.nn.relu(tf.add(tf.matmul(f, W2),b2))\n",
    "\n",
    "\n",
    "out_weights = weight_variable([num_hidden, num_labels])\n",
    "out_biases = bias_variable([num_labels])\n",
    "softmax_out = tf.nn.softmax(tf.matmul(f2, out_weights) + out_biases)\n",
    "\n"
   ]
  },
  {
   "cell_type": "code",
   "execution_count": 474,
   "metadata": {},
   "outputs": [],
   "source": [
    "loss = -tf.reduce_sum(Y * tf.log(softmax_out))\n",
    "#optimizer = tf.train.GradientDescentOptimizer(learning_rate = learning_rate).minimize(loss)\n",
    "optimizer = tf.train.RMSPropOptimizer(learning_rate=learning_rate, decay= decay_rate , momentum= momentum,epsilon= epsilon, use_locking=False, centered=False, name='RMSProp').minimize(loss)\n",
    "correct_prediction = tf.equal(tf.argmax(softmax_out,1), tf.argmax(Y,1))\n",
    "accuracy = tf.reduce_mean(tf.cast(correct_prediction, tf.float32))"
   ]
  },
  {
   "cell_type": "markdown",
   "metadata": {},
   "source": [
    "## TRAINING"
   ]
  },
  {
   "cell_type": "code",
   "execution_count": 475,
   "metadata": {},
   "outputs": [
    {
     "name": "stdout",
     "output_type": "stream",
     "text": [
      "Epoch:  0  Training Loss:  8.127902  Training Accuracy:  0.5147059\n",
      "Epoch:  1  Training Loss:  7.176163  Training Accuracy:  0.5147059\n",
      "Epoch:  2  Training Loss:  11.648097  Training Accuracy:  0.5147059\n",
      "Epoch:  3  Training Loss:  5.6405516  Training Accuracy:  0.5808824\n",
      "Epoch:  4  Training Loss:  5.721657  Training Accuracy:  0.8308824\n",
      "Epoch:  5  Training Loss:  6.4016666  Training Accuracy:  0.7647059\n",
      "Epoch:  6  Training Loss:  5.326806  Training Accuracy:  0.8492647\n",
      "Epoch:  7  Training Loss:  6.002383  Training Accuracy:  0.5514706\n",
      "Epoch:  8  Training Loss:  13.762344  Training Accuracy:  0.54044116\n",
      "Epoch:  9  Training Loss:  6.557444  Training Accuracy:  0.8602941\n",
      "Epoch:  10  Training Loss:  8.6622505  Training Accuracy:  0.5625\n",
      "Epoch:  11  Training Loss:  6.3283815  Training Accuracy:  0.8602941\n",
      "Epoch:  12  Training Loss:  7.836132  Training Accuracy:  0.5330882\n",
      "Epoch:  13  Training Loss:  5.872313  Training Accuracy:  0.64705884\n",
      "Epoch:  14  Training Loss:  4.973226  Training Accuracy:  0.9411765\n",
      "Epoch:  15  Training Loss:  3.5716443  Training Accuracy:  0.8933824\n",
      "Epoch:  16  Training Loss:  7.0142703  Training Accuracy:  0.7536765\n",
      "Epoch:  17  Training Loss:  3.6657295  Training Accuracy:  0.8419118\n",
      "Epoch:  18  Training Loss:  4.9355354  Training Accuracy:  0.9375\n",
      "Epoch:  19  Training Loss:  3.9772568  Training Accuracy:  0.9007353\n",
      "Epoch:  20  Training Loss:  7.588117  Training Accuracy:  0.6911765\n",
      "Epoch:  21  Training Loss:  3.9930103  Training Accuracy:  0.89705884\n",
      "Epoch:  22  Training Loss:  18.125265  Training Accuracy:  0.5367647\n",
      "Epoch:  23  Training Loss:  7.213142  Training Accuracy:  0.91544116\n",
      "Epoch:  24  Training Loss:  6.493092  Training Accuracy:  0.97794116\n",
      "Epoch:  25  Training Loss:  15.277669  Training Accuracy:  0.7169118\n",
      "Epoch:  26  Training Loss:  6.2096763  Training Accuracy:  0.94485295\n",
      "Epoch:  27  Training Loss:  3.3780818  Training Accuracy:  0.8713235\n",
      "Epoch:  28  Training Loss:  8.452696  Training Accuracy:  0.80514705\n",
      "Epoch:  29  Training Loss:  2.811378  Training Accuracy:  0.9742647\n",
      "Testing Accuracy: 0.8875\n"
     ]
    }
   ],
   "source": [
    "cost_history = np.empty(shape=[1],dtype=float)\n",
    "\n",
    "with tf.Session() as session:\n",
    "    tf.global_variables_initializer().run()\n",
    "    #summary_writer = tf.summary.FileWriter('./tensor/logs', graph=tf.get_default_graph())\n",
    "    saver = tf.train.Saver()\n",
    "    for epoch in range(training_epochs):\n",
    "        for b in range(total_batches):    \n",
    "            offset = (b * batch_size) % (train_y.shape[0] - batch_size)\n",
    "            batch_x = train_x[offset:(offset + batch_size), :, :, :]\n",
    "            batch_y = train_y[offset:(offset + batch_size), :]\n",
    "            #_, c,summary = session.run([optimizer, loss,merged],feed_dict={X: batch_x, Y : batch_y})\n",
    "            _, c = session.run([optimizer, loss],feed_dict={X: batch_x, Y : batch_y})\n",
    "            cost_history = np.append(cost_history,c)\n",
    "            #summary_writer.add_summary(summary, epoch)\n",
    "        print(\"Epoch: \",epoch,\" Training Loss: \",c,\" Training Accuracy: \",\n",
    "              session.run(accuracy, feed_dict={X: train_x, Y: train_y}))\n",
    "    \n",
    "    print(\"Testing Accuracy:\", session.run(accuracy, feed_dict={X: test_x, Y: test_y}))\n",
    "    preds = session.run(softmax_out, feed_dict={X: test_x, Y: test_y})\n",
    "    #save_path = saver.save(session, \"/tmp/model.ckpt\")\n",
    "    #print(\"Model saved in path: %s\" % save_path)"
   ]
  },
  {
   "cell_type": "code",
   "execution_count": 479,
   "metadata": {},
   "outputs": [
    {
     "data": {
      "text/plain": [
       "(320, 2)"
      ]
     },
     "execution_count": 479,
     "metadata": {},
     "output_type": "execute_result"
    }
   ],
   "source": [
    "preds.shape"
   ]
  },
  {
   "cell_type": "code",
   "execution_count": 482,
   "metadata": {},
   "outputs": [
    {
     "data": {
      "text/plain": [
       "array([[8.15956155e-05, 9.99918342e-01],\n",
       "       [6.82287675e-04, 9.99317765e-01],\n",
       "       [2.77755465e-02, 9.72224414e-01],\n",
       "       [3.29843780e-04, 9.99670148e-01],\n",
       "       [8.53915651e-07, 9.99999166e-01],\n",
       "       [4.00717705e-01, 5.99282324e-01],\n",
       "       [2.35620129e-04, 9.99764383e-01],\n",
       "       [6.18038292e-04, 9.99381900e-01],\n",
       "       [2.55319919e-03, 9.97446775e-01],\n",
       "       [1.22752752e-07, 9.99999881e-01],\n",
       "       [1.43172201e-02, 9.85682786e-01],\n",
       "       [9.40419555e-01, 5.95804490e-02],\n",
       "       [2.04806542e-03, 9.97951925e-01],\n",
       "       [1.76792742e-06, 9.99998212e-01],\n",
       "       [9.97408569e-01, 2.59148609e-03],\n",
       "       [1.66896876e-04, 9.99833107e-01],\n",
       "       [2.04239171e-02, 9.79576111e-01],\n",
       "       [4.86929379e-02, 9.51307118e-01],\n",
       "       [9.99995470e-01, 4.48731726e-06],\n",
       "       [5.89533627e-01, 4.10466462e-01],\n",
       "       [9.76662397e-01, 2.33376063e-02],\n",
       "       [9.98351336e-01, 1.64869963e-03],\n",
       "       [7.93320715e-01, 2.06679285e-01],\n",
       "       [8.19925308e-01, 1.80074707e-01],\n",
       "       [9.99873400e-01, 1.26636529e-04],\n",
       "       [9.99928713e-01, 7.12516703e-05],\n",
       "       [9.99801338e-01, 1.98638998e-04],\n",
       "       [9.99635577e-01, 3.64351668e-04],\n",
       "       [9.99810040e-01, 1.89987506e-04],\n",
       "       [9.95519519e-01, 4.48048720e-03],\n",
       "       [9.74461496e-01, 2.55385246e-02],\n",
       "       [9.27867949e-01, 7.21320361e-02],\n",
       "       [6.26481950e-01, 3.73518139e-01],\n",
       "       [9.88701105e-01, 1.12989256e-02],\n",
       "       [9.99986887e-01, 1.30891922e-05],\n",
       "       [9.99998569e-01, 1.42634235e-06],\n",
       "       [2.50496745e-01, 7.49503255e-01],\n",
       "       [9.99056280e-01, 9.43781168e-04],\n",
       "       [9.89531755e-01, 1.04682064e-02],\n",
       "       [9.97637391e-01, 2.36264407e-03],\n",
       "       [9.83492494e-01, 1.65074468e-02],\n",
       "       [8.90641332e-01, 1.09358631e-01],\n",
       "       [9.97101843e-01, 2.89816805e-03],\n",
       "       [6.95928931e-01, 3.04071128e-01],\n",
       "       [9.97787476e-01, 2.21245876e-03],\n",
       "       [9.99997735e-01, 2.32246884e-06],\n",
       "       [9.79559422e-01, 2.04405598e-02],\n",
       "       [9.77434278e-01, 2.25657467e-02],\n",
       "       [9.83279943e-01, 1.67200621e-02],\n",
       "       [9.99918938e-01, 8.10553975e-05],\n",
       "       [9.99995947e-01, 4.02899514e-06],\n",
       "       [1.18527852e-01, 8.81472111e-01],\n",
       "       [9.36125040e-01, 6.38749599e-02],\n",
       "       [9.96743679e-01, 3.25630722e-03],\n",
       "       [6.40986800e-01, 3.59013200e-01],\n",
       "       [6.31696265e-03, 9.93683100e-01],\n",
       "       [9.46957707e-01, 5.30422367e-02],\n",
       "       [9.99986649e-01, 1.33144622e-05],\n",
       "       [4.82013524e-02, 9.51798677e-01],\n",
       "       [9.97742534e-01, 2.25751754e-03],\n",
       "       [9.08438563e-01, 9.15614739e-02],\n",
       "       [2.21799966e-03, 9.97782052e-01],\n",
       "       [9.99610841e-01, 3.89162509e-04],\n",
       "       [1.70487970e-01, 8.29512060e-01],\n",
       "       [9.91801560e-01, 8.19841027e-03],\n",
       "       [8.70890498e-01, 1.29109547e-01],\n",
       "       [9.85857964e-01, 1.41420383e-02],\n",
       "       [9.54085708e-01, 4.59142700e-02],\n",
       "       [9.98698711e-01, 1.30123063e-03],\n",
       "       [4.56830680e-01, 5.43169320e-01],\n",
       "       [9.93112981e-01, 6.88695908e-03],\n",
       "       [5.63020766e-01, 4.36979234e-01],\n",
       "       [9.99999762e-01, 2.10953701e-07],\n",
       "       [9.99971271e-01, 2.86923350e-05],\n",
       "       [9.98221457e-01, 1.77858630e-03],\n",
       "       [9.76255000e-01, 2.37449892e-02],\n",
       "       [9.95076597e-01, 4.92346380e-03],\n",
       "       [9.87513602e-01, 1.24863535e-02],\n",
       "       [9.99530077e-01, 4.69936174e-04],\n",
       "       [9.99065101e-01, 9.34879703e-04],\n",
       "       [9.94066834e-01, 5.93319535e-03],\n",
       "       [9.99999762e-01, 2.48404490e-07],\n",
       "       [9.95967031e-01, 4.03292198e-03],\n",
       "       [9.98661399e-01, 1.33861473e-03],\n",
       "       [2.98656106e-01, 7.01343954e-01],\n",
       "       [9.99636054e-01, 3.63964093e-04],\n",
       "       [9.95139599e-01, 4.86041931e-03],\n",
       "       [5.26031494e-01, 4.73968595e-01],\n",
       "       [9.99600589e-01, 3.99455836e-04],\n",
       "       [9.99635816e-01, 3.64186213e-04],\n",
       "       [8.33562613e-01, 1.66437373e-01],\n",
       "       [9.14543569e-01, 8.54564607e-02],\n",
       "       [8.07423532e-01, 1.92576498e-01],\n",
       "       [4.40528265e-06, 9.99995589e-01],\n",
       "       [9.92943585e-01, 7.05636712e-03],\n",
       "       [9.99043167e-01, 9.56822012e-04],\n",
       "       [9.99306679e-01, 6.93289796e-04],\n",
       "       [9.99811232e-01, 1.88767750e-04],\n",
       "       [9.99990225e-01, 9.74309114e-06],\n",
       "       [9.99957919e-01, 4.20970027e-05],\n",
       "       [1.76699017e-03, 9.98232961e-01],\n",
       "       [9.99912024e-01, 8.79241343e-05],\n",
       "       [1.48554323e-02, 9.85144496e-01],\n",
       "       [7.05311120e-01, 2.94688851e-01],\n",
       "       [1.83387235e-01, 8.16612780e-01],\n",
       "       [7.33754933e-01, 2.66245037e-01],\n",
       "       [9.97809112e-01, 2.19091866e-03],\n",
       "       [4.20394719e-01, 5.79605281e-01],\n",
       "       [9.91011500e-01, 8.98850337e-03],\n",
       "       [3.08718950e-01, 6.91281080e-01],\n",
       "       [9.43023682e-01, 5.69762401e-02],\n",
       "       [9.98586893e-01, 1.41310785e-03],\n",
       "       [4.57240641e-02, 9.54275906e-01],\n",
       "       [9.82036531e-01, 1.79635361e-02],\n",
       "       [9.99758780e-01, 2.41168615e-04],\n",
       "       [9.99999642e-01, 3.23401082e-07],\n",
       "       [9.94561017e-01, 5.43900160e-03],\n",
       "       [9.24443245e-01, 7.55567402e-02],\n",
       "       [9.99273598e-01, 7.26371887e-04],\n",
       "       [9.93857324e-01, 6.14269311e-03],\n",
       "       [9.94729578e-01, 5.27039310e-03],\n",
       "       [9.99998569e-01, 1.43801185e-06],\n",
       "       [9.93610442e-01, 6.38955599e-03],\n",
       "       [9.97542024e-01, 2.45802500e-03],\n",
       "       [9.91833925e-01, 8.16605147e-03],\n",
       "       [4.07846063e-01, 5.92153966e-01],\n",
       "       [9.21080589e-01, 7.89193884e-02],\n",
       "       [3.08732480e-01, 6.91267431e-01],\n",
       "       [9.99930739e-01, 6.92489048e-05],\n",
       "       [9.98443186e-01, 1.55686971e-03],\n",
       "       [8.18271935e-01, 1.81728035e-01],\n",
       "       [1.56865969e-01, 8.43134046e-01],\n",
       "       [9.30365622e-01, 6.96343631e-02],\n",
       "       [9.96868074e-01, 3.13188811e-03],\n",
       "       [9.99561846e-01, 4.38146846e-04],\n",
       "       [8.98641586e-01, 1.01358436e-01],\n",
       "       [9.17556822e-01, 8.24432150e-02],\n",
       "       [9.69421983e-01, 3.05780135e-02],\n",
       "       [9.74710166e-01, 2.52898578e-02],\n",
       "       [9.28619385e-01, 7.13806599e-02],\n",
       "       [9.43798959e-01, 5.62010631e-02],\n",
       "       [9.69211161e-01, 3.07888519e-02],\n",
       "       [1.67140423e-03, 9.98328626e-01],\n",
       "       [9.99819577e-01, 1.80495699e-04],\n",
       "       [9.99756515e-01, 2.43487390e-04],\n",
       "       [9.99964118e-01, 3.59082187e-05],\n",
       "       [5.56138277e-01, 4.43861723e-01],\n",
       "       [1.00000000e+00, 1.01980273e-08],\n",
       "       [8.41584027e-01, 1.58416003e-01],\n",
       "       [6.50289953e-01, 3.49710047e-01],\n",
       "       [9.99958515e-01, 4.15251598e-05],\n",
       "       [9.99956965e-01, 4.30078107e-05],\n",
       "       [5.09991311e-02, 9.49000895e-01],\n",
       "       [9.28707182e-01, 7.12927729e-02],\n",
       "       [1.28430125e-04, 9.99871612e-01],\n",
       "       [9.85359311e-01, 1.46406675e-02],\n",
       "       [9.99926925e-01, 7.30992979e-05],\n",
       "       [4.17694122e-01, 5.82305908e-01],\n",
       "       [9.99972343e-01, 2.76029950e-05],\n",
       "       [8.58669817e-01, 1.41330153e-01],\n",
       "       [2.38434747e-02, 9.76156533e-01],\n",
       "       [9.97812748e-01, 2.18723575e-03],\n",
       "       [9.93754983e-01, 6.24495978e-03],\n",
       "       [9.99392271e-01, 6.07741065e-04],\n",
       "       [9.99982119e-01, 1.78456830e-05],\n",
       "       [8.78109857e-02, 9.12189007e-01],\n",
       "       [9.99239802e-01, 7.60263007e-04],\n",
       "       [1.06559731e-02, 9.89344001e-01],\n",
       "       [9.99807417e-01, 1.92582302e-04],\n",
       "       [9.99978781e-01, 2.12548039e-05],\n",
       "       [9.99985099e-01, 1.49242414e-05],\n",
       "       [5.89192629e-01, 4.10807371e-01],\n",
       "       [9.48383570e-01, 5.16164564e-02],\n",
       "       [6.43462350e-04, 9.99356568e-01],\n",
       "       [9.99997020e-01, 2.96841631e-06],\n",
       "       [9.99373496e-01, 6.26529392e-04],\n",
       "       [6.52509749e-01, 3.47490281e-01],\n",
       "       [9.65466797e-01, 3.45331579e-02],\n",
       "       [7.36026049e-01, 2.63973981e-01],\n",
       "       [1.92606244e-02, 9.80739355e-01],\n",
       "       [9.99537587e-01, 4.62424796e-04],\n",
       "       [9.98390555e-01, 1.60941924e-03],\n",
       "       [1.19715469e-05, 9.99988079e-01],\n",
       "       [1.37207244e-04, 9.99862790e-01],\n",
       "       [9.73993242e-02, 9.02600646e-01],\n",
       "       [9.97593343e-01, 2.40668864e-03],\n",
       "       [9.77567017e-01, 2.24330332e-02],\n",
       "       [9.97326732e-01, 2.67327810e-03],\n",
       "       [9.99981165e-01, 1.88715512e-05],\n",
       "       [1.09781660e-01, 8.90218318e-01],\n",
       "       [9.56609070e-01, 4.33909819e-02],\n",
       "       [6.88276291e-01, 3.11723769e-01],\n",
       "       [9.97613668e-01, 2.38633156e-03],\n",
       "       [9.67400432e-01, 3.25995311e-02],\n",
       "       [9.96204674e-01, 3.79536627e-03],\n",
       "       [5.98599017e-02, 9.40140128e-01],\n",
       "       [8.15610647e-01, 1.84389368e-01],\n",
       "       [9.75533307e-01, 2.44667344e-02],\n",
       "       [9.99973416e-01, 2.66221596e-05],\n",
       "       [9.97715116e-01, 2.28484231e-03],\n",
       "       [9.98658657e-01, 1.34127098e-03],\n",
       "       [9.73156631e-01, 2.68433727e-02],\n",
       "       [7.86998391e-01, 2.13001609e-01],\n",
       "       [9.57874715e-01, 4.21252996e-02],\n",
       "       [9.68932629e-01, 3.10673639e-02],\n",
       "       [9.99016166e-01, 9.83816804e-04],\n",
       "       [9.99086857e-01, 9.13176918e-04],\n",
       "       [9.57535028e-01, 4.24649790e-02],\n",
       "       [9.99814808e-01, 1.85276280e-04],\n",
       "       [9.91902053e-01, 8.09790753e-03],\n",
       "       [9.99368966e-01, 6.31010043e-04],\n",
       "       [9.99662161e-01, 3.37869889e-04],\n",
       "       [9.91879404e-01, 8.12059734e-03],\n",
       "       [4.47590292e-01, 5.52409649e-01],\n",
       "       [9.57380831e-01, 4.26191837e-02],\n",
       "       [9.89333808e-01, 1.06661888e-02],\n",
       "       [9.99858499e-01, 1.41503217e-04],\n",
       "       [3.08613311e-02, 9.69138622e-01],\n",
       "       [9.82759237e-01, 1.72407497e-02],\n",
       "       [9.85294342e-01, 1.47056580e-02],\n",
       "       [9.99173820e-01, 8.26178468e-04],\n",
       "       [9.50720131e-01, 4.92798761e-02],\n",
       "       [2.68888107e-04, 9.99731123e-01],\n",
       "       [9.99943137e-01, 5.68541036e-05],\n",
       "       [1.00000000e+00, 6.05838504e-11],\n",
       "       [5.76344192e-01, 4.23655778e-01],\n",
       "       [9.95381594e-01, 4.61844169e-03],\n",
       "       [9.96340930e-01, 3.65903974e-03],\n",
       "       [9.99993563e-01, 6.40165126e-06],\n",
       "       [9.92672503e-01, 7.32749049e-03],\n",
       "       [9.99999881e-01, 1.18687737e-07],\n",
       "       [8.34508657e-01, 1.65491357e-01],\n",
       "       [9.99996305e-01, 3.70241969e-06],\n",
       "       [1.38673097e-01, 8.61326993e-01],\n",
       "       [9.99594986e-01, 4.05021856e-04],\n",
       "       [4.33134556e-01, 5.66865444e-01],\n",
       "       [1.75521404e-01, 8.24478567e-01],\n",
       "       [9.92779911e-01, 7.22013740e-03],\n",
       "       [9.99997258e-01, 2.70530950e-06],\n",
       "       [9.98577476e-01, 1.42249977e-03],\n",
       "       [9.96688306e-01, 3.31175514e-03],\n",
       "       [8.37809205e-01, 1.62190780e-01],\n",
       "       [7.80098140e-01, 2.19901890e-01],\n",
       "       [9.99917984e-01, 8.20473069e-05],\n",
       "       [9.60194647e-01, 3.98053005e-02],\n",
       "       [9.99969840e-01, 3.02157841e-05],\n",
       "       [9.99991536e-01, 8.49870230e-06],\n",
       "       [9.98420358e-01, 1.57963240e-03],\n",
       "       [9.93621409e-01, 6.37856405e-03],\n",
       "       [1.33713176e-02, 9.86628652e-01],\n",
       "       [9.98928487e-01, 1.07152865e-03],\n",
       "       [1.81246728e-01, 8.18753302e-01],\n",
       "       [9.99964714e-01, 3.52959505e-05],\n",
       "       [9.99969482e-01, 3.04628975e-05],\n",
       "       [6.92573369e-01, 3.07426631e-01],\n",
       "       [8.99677634e-01, 1.00322366e-01],\n",
       "       [9.92347479e-01, 7.65249040e-03],\n",
       "       [9.80032086e-01, 1.99679565e-02],\n",
       "       [9.88563299e-01, 1.14366859e-02],\n",
       "       [9.99556839e-01, 4.43173049e-04],\n",
       "       [9.96736228e-01, 3.26375989e-03],\n",
       "       [7.25048125e-01, 2.74951875e-01],\n",
       "       [4.83872145e-01, 5.16127884e-01],\n",
       "       [9.99984503e-01, 1.54839618e-05],\n",
       "       [9.99999762e-01, 2.84501283e-07],\n",
       "       [9.96474206e-01, 3.52583011e-03],\n",
       "       [3.00071575e-03, 9.96999264e-01],\n",
       "       [9.72735226e-01, 2.72648167e-02],\n",
       "       [9.99992490e-01, 7.49071432e-06],\n",
       "       [7.04764545e-01, 2.95235425e-01],\n",
       "       [8.49549938e-03, 9.91504490e-01],\n",
       "       [9.99927998e-01, 7.19538657e-05],\n",
       "       [8.98438871e-01, 1.01561114e-01],\n",
       "       [1.06468497e-06, 9.99998927e-01],\n",
       "       [9.98670578e-01, 1.32939161e-03],\n",
       "       [9.98958826e-01, 1.04113144e-03],\n",
       "       [9.99743164e-01, 2.56822474e-04],\n",
       "       [9.88985896e-01, 1.10141160e-02],\n",
       "       [1.27203882e-01, 8.72796178e-01],\n",
       "       [9.99344051e-01, 6.55901618e-04],\n",
       "       [9.99994040e-01, 6.00051817e-06],\n",
       "       [9.99881029e-01, 1.18964810e-04],\n",
       "       [7.46538818e-01, 2.53461212e-01],\n",
       "       [8.56337070e-01, 1.43662915e-01],\n",
       "       [9.97721493e-01, 2.27847602e-03],\n",
       "       [9.86675084e-01, 1.33249601e-02],\n",
       "       [9.99881268e-01, 1.18704629e-04],\n",
       "       [1.86533526e-01, 8.13466489e-01],\n",
       "       [9.93540585e-01, 6.45940611e-03],\n",
       "       [9.99981880e-01, 1.81345385e-05],\n",
       "       [8.79476249e-01, 1.20523728e-01],\n",
       "       [9.99298930e-01, 7.01052020e-04],\n",
       "       [9.98891532e-01, 1.10849692e-03],\n",
       "       [6.26423120e-01, 3.73576880e-01],\n",
       "       [8.55626058e-05, 9.99914408e-01],\n",
       "       [9.98728096e-01, 1.27194787e-03],\n",
       "       [9.91495371e-01, 8.50462168e-03],\n",
       "       [9.26381230e-01, 7.36188218e-02],\n",
       "       [9.70483720e-01, 2.95163132e-02],\n",
       "       [9.88303125e-01, 1.16968900e-02],\n",
       "       [9.93497252e-01, 6.50270749e-03],\n",
       "       [8.65526557e-01, 1.34473428e-01],\n",
       "       [9.72351789e-01, 2.76482124e-02],\n",
       "       [9.38955724e-01, 6.10443205e-02],\n",
       "       [9.98760104e-01, 1.23987033e-03],\n",
       "       [9.97225583e-01, 2.77439458e-03],\n",
       "       [9.94210720e-01, 5.78926085e-03],\n",
       "       [9.99858618e-01, 1.41323588e-04],\n",
       "       [1.94145814e-02, 9.80585396e-01],\n",
       "       [4.58192557e-01, 5.41807413e-01],\n",
       "       [9.98644292e-01, 1.35565654e-03],\n",
       "       [9.91781652e-01, 8.21840297e-03],\n",
       "       [9.99893904e-01, 1.06077787e-04],\n",
       "       [8.76930892e-01, 1.23069108e-01],\n",
       "       [9.99985099e-01, 1.49003645e-05],\n",
       "       [9.99999046e-01, 1.01241301e-06],\n",
       "       [9.67437744e-01, 3.25622521e-02],\n",
       "       [9.79934871e-01, 2.00650916e-02],\n",
       "       [9.99988198e-01, 1.17772506e-05],\n",
       "       [9.92821634e-01, 7.17832940e-03]], dtype=float32)"
      ]
     },
     "execution_count": 482,
     "metadata": {},
     "output_type": "execute_result"
    }
   ],
   "source": [
    "preds"
   ]
  },
  {
   "cell_type": "code",
   "execution_count": 480,
   "metadata": {},
   "outputs": [],
   "source": [
    "final_pred=[]\n",
    "for i in preds:\n",
    "    final_pred.append(np.argmax(i))"
   ]
  },
  {
   "cell_type": "code",
   "execution_count": 481,
   "metadata": {},
   "outputs": [
    {
     "name": "stdout",
     "output_type": "stream",
     "text": [
      "\n",
      " [[249  30]\n",
      " [  6  35]]\n",
      "\n",
      "               precision    recall  f1-score   support\n",
      "\n",
      "           0       0.98      0.89      0.93       279\n",
      "           1       0.54      0.85      0.66        41\n",
      "\n",
      "    accuracy                           0.89       320\n",
      "   macro avg       0.76      0.87      0.80       320\n",
      "weighted avg       0.92      0.89      0.90       320\n",
      "\n"
     ]
    }
   ],
   "source": [
    "cm5 = confusion_matrix(Ytest,final_pred)\n",
    "print('\\n',cm5)\n",
    "print('\\n',classification_report(Ytest,final_pred))"
   ]
  },
  {
   "cell_type": "code",
   "execution_count": null,
   "metadata": {},
   "outputs": [],
   "source": []
  }
 ],
 "metadata": {
  "kernelspec": {
   "display_name": "Python 3",
   "language": "python",
   "name": "python3"
  },
  "language_info": {
   "codemirror_mode": {
    "name": "ipython",
    "version": 3
   },
   "file_extension": ".py",
   "mimetype": "text/x-python",
   "name": "python",
   "nbconvert_exporter": "python",
   "pygments_lexer": "ipython3",
   "version": "3.7.3"
  }
 },
 "nbformat": 4,
 "nbformat_minor": 2
}
